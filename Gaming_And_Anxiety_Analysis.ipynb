{
 "cells": [
  {
   "cell_type": "markdown",
   "id": "67d06370",
   "metadata": {},
   "source": [
    "# Online Gaming and Anxiety\n",
    "\n",
    "(Data Cleaning done by Aliyu Muraina, Amy Dohlin, Andrew Arjune and Anna Bitzer)"
   ]
  },
  {
   "cell_type": "code",
   "execution_count": null,
   "id": "b47f5d17",
   "metadata": {},
   "outputs": [],
   "source": [
    "# import dependencies\n",
    "import matplotlib.pyplot as plt\n",
    "import numpy as np\n",
    "import pandas as pd\n",
    "from pathlib import Path\n",
    "import scipy.stats as st"
   ]
  },
  {
   "cell_type": "code",
   "execution_count": null,
   "id": "2c77345f",
   "metadata": {},
   "outputs": [],
   "source": [
    "# Create path to CSV\n",
    "gaming = Path(\"GamingStudy/Scrub_gaming_data.csv\")"
   ]
  },
  {
   "cell_type": "code",
   "execution_count": null,
   "id": "2da76cbf",
   "metadata": {},
   "outputs": [],
   "source": [
    "# Read in gaming data from CSV file\n",
    "# Assign to dataframe called gaming_df\n",
    "gaming_df = pd.read_csv(gaming)\n",
    "# Print entire dataframe\n",
    "gaming_df"
   ]
  },
  {
   "cell_type": "code",
   "execution_count": null,
   "id": "e3d36ba1",
   "metadata": {
    "scrolled": true
   },
   "outputs": [],
   "source": [
    "gaming_df.columns"
   ]
  },
  {
   "cell_type": "code",
   "execution_count": null,
   "id": "35b39c4f",
   "metadata": {
    "scrolled": true
   },
   "outputs": [],
   "source": [
    "clean_game = gaming_df[[\"S. No.\",\"Game\",\"Platform\",\"Hours\",\"earnings\",\"whyplay\",\"Gender\",\"Age\",\"Work\",\"Degree\",\"Residence\",\"Playstyle\",\"GAD_T\",\"SWL_T\",\"SPIN_T\"]]\n",
    "clean_game"
   ]
  },
  {
   "cell_type": "code",
   "execution_count": null,
   "id": "73a2de07",
   "metadata": {},
   "outputs": [],
   "source": [
    "#save cleaned dataframe to new csv\n",
    "clean_game.to_csv(\"clean_game_data.csv\")\n"
   ]
  },
  {
   "cell_type": "markdown",
   "id": "7f078c14",
   "metadata": {},
   "source": [
    "# Research Question: Are people who play for fun more likely to be gainfully employed?\n",
    "\n",
    "(Analysis completed by Aliyu Muraina)"
   ]
  },
  {
   "cell_type": "code",
   "execution_count": null,
   "id": "94049c80",
   "metadata": {},
   "outputs": [],
   "source": [
    "# To get the total number of people that play for fun, we need to sum the number of people who play for fun\n",
    "#money_players = df[df['MoneySpentPerWeek'] > 0]['MoneySpentPerWeek'].count()\n",
    "\n",
    "Numb_of_people_whyplay = clean_game[\"whyplay\"].value_counts()\n",
    "Numb_of_people_whyplay"
   ]
  },
  {
   "cell_type": "code",
   "execution_count": null,
   "id": "6e0c0c50",
   "metadata": {},
   "outputs": [],
   "source": [
    "#Collect total number of people playing for earnings\n",
    "total_numb_of_earning_players = clean_game['earnings'].value_counts()\n",
    "total_numb_of_earning_players"
   ]
  },
  {
   "cell_type": "code",
   "execution_count": null,
   "id": "9c84bd0a",
   "metadata": {},
   "outputs": [],
   "source": [
    "#collect the total number of people that plays for fun only\n",
    "total_fun_players =Numb_of_people_whyplay[\"having fun\"].sum()\n",
    "#total_fun_players\n",
    "#collect the total number of people playing for money\n",
    "total_money_players =Numb_of_people_whyplay[\"winning\"].sum()\n",
    "#total_money_players"
   ]
  },
  {
   "cell_type": "code",
   "execution_count": null,
   "id": "b7b77c1b",
   "metadata": {},
   "outputs": [],
   "source": [
    "#build a datafram that shows the number of people who play for fun and for winning\n",
    "combined_data =pd.DataFrame({\"Having fun\":[total_fun_players],\"Winning\":[total_money_players]})\n",
    "combined_data\n"
   ]
  },
  {
   "cell_type": "code",
   "execution_count": null,
   "id": "72179869",
   "metadata": {},
   "outputs": [],
   "source": [
    "# I want to generate a bar chart to have proper visualization for both \"Having fun\" and \"Winning of the data set in a pyplot\"\n",
    "# I am using pyplot for my barchart so as to have more control over my chart to\n",
    "# Generate a bar plot showing the comparison between people who play for money vs for fun\n",
    "\n",
    "money_df = combined_data[combined_data[\"Winning\"] == 'Yes']\n",
    "fun_df = combined_data[combined_data['Having fun'] == 'Yes']\n",
    "\n",
    "x = ['Winning', 'Having fun']\n",
    "y = [total_money_players,total_fun_players]\n",
    "\n",
    "plt.bar(x,y)\n",
    "plt.title('Players Who Play for Money vs For Fun')\n",
    "plt.xlabel('Play Type')\n",
    "plt.ylabel('Number of Players')\n",
    "\n",
    "plt.show()\n",
    "\n"
   ]
  },
  {
   "cell_type": "code",
   "execution_count": null,
   "id": "f31d98e3",
   "metadata": {},
   "outputs": [],
   "source": [
    "#For Fun: Are people who play for fun are likely to be gainfully employed\n",
    "#to get the amoutn of people who play for fun are employed\n",
    "#get the data of work from the clean_game dataframe\n",
    "Employed_people = clean_game.loc[clean_game['Work'] == 'Employed']\n",
    "Employed_people.head()\n",
    "\n"
   ]
  },
  {
   "cell_type": "code",
   "execution_count": null,
   "id": "0dad01f7",
   "metadata": {},
   "outputs": [],
   "source": [
    "Numb_of_people_work = clean_game[\"Work\"].value_counts()\n",
    "Numb_of_people_work"
   ]
  },
  {
   "cell_type": "code",
   "execution_count": null,
   "id": "5fa690f6",
   "metadata": {},
   "outputs": [],
   "source": [
    "Employed_people = Numb_of_people_work[\"Employed\"]\n",
    "Employed_people"
   ]
  },
  {
   "cell_type": "code",
   "execution_count": null,
   "id": "9a0524b3",
   "metadata": {},
   "outputs": [],
   "source": [
    "Unemployed_people = Numb_of_people_work[\"Unemployed / between jobs\"].sum()\n",
    "Unemployed_people"
   ]
  },
  {
   "cell_type": "code",
   "execution_count": null,
   "id": "d1e90d44",
   "metadata": {},
   "outputs": [],
   "source": [
    "Wanted_df = clean_game[[\"whyplay\",\"Work\"]]\n",
    "Wanted_df.head"
   ]
  },
  {
   "cell_type": "code",
   "execution_count": null,
   "id": "aa91f94c",
   "metadata": {},
   "outputs": [],
   "source": [
    "x = ['whyplay','Work']\n",
    "y1 = [10,20]\n",
    "y2 = [5,15]\n",
    "plt.bar(x,y1,label='Work')\n",
    "plt.bar(x,y2,label='Whyplay')\n",
    "plt.legend()\n",
    "plt.show()\n"
   ]
  },
  {
   "cell_type": "code",
   "execution_count": null,
   "id": "0749b2e1",
   "metadata": {},
   "outputs": [],
   "source": [
    "# Build a datafram for both whyplay(having_fun) and Work(Employed)\n",
    "Combined_df =pd.DataFrame({\"Having fun\":[total_fun_players],\"Employed\":[Employed_people]})\n",
    "Combined_df.head()"
   ]
  },
  {
   "cell_type": "code",
   "execution_count": null,
   "id": "f0a8b73a",
   "metadata": {},
   "outputs": [],
   "source": [
    "# Filter data to only people who are having fun\n",
    "\n",
    "having_fun = [\"Having fun\", \"Employment\"]\n",
    "\n",
    "# Filter having_fun data to employment categories#\n",
    "having_fun_employment = Combined_df[Combined_df['Having fun'].isin(having_fun)]\n",
    "having_fun_employment\n",
    "\n",
    "# Create bar chart of employment for people having fun\n",
    "\n",
    "\n",
    "\n"
   ]
  },
  {
   "cell_type": "code",
   "execution_count": null,
   "id": "36005113",
   "metadata": {},
   "outputs": [],
   "source": [
    "#% of employed vs % of unemployed\n",
    "# % of employed\n",
    "employed_df = Numb_of_people_work [\"Employed\"].sum()\n",
    "percentage_employed_df = employed_df / (Numb_of_people_work) * 100\n",
    "percentage_employed_df\n"
   ]
  },
  {
   "cell_type": "markdown",
   "id": "dc6d7503",
   "metadata": {},
   "source": [
    "# Research Question: Americans vs Europeans: Who spends more time gaming, and how does it compare to their satisfaction with life scores?\n",
    "\n",
    "(Analysis completed by Amy Dohlin)"
   ]
  },
  {
   "cell_type": "code",
   "execution_count": null,
   "id": "e3475409",
   "metadata": {},
   "outputs": [],
   "source": [
    "# create a df to see only S. No. (survey number), Residence, and SWL_T (satisfaction with life total score)\n",
    "residence_df = clean_game[[\"S. No.\",\"Hours\", \"Residence\",\"SWL_T\"]]\n",
    "\n",
    "# pull list of countries out of Residence column\n",
    "residence_df[\"Residence\"].unique()\n",
    "\n",
    "# drop non-US and non_European countries\n",
    "# coding help from Xpert Learning Assistant\n",
    "# European countries reference: https://www.worldometers.info/geography/how-many-countries-in-europe/#google_vignette\n",
    "patterns_to_drop = ['South Korea', 'Japan', 'Canada', \n",
    "       'Australia', 'Malaysia',\n",
    "       'Turkey', 'South Africa', 'India',\n",
    "       'Argentina',\n",
    "       'Singapore', 'China', 'Unknown', \n",
    "       'Saudi Arabia',\n",
    "       'Jordan', 'Brazil', 'Venezuela', 'Tunisia', 'Israel',\n",
    "       'Qatar', 'Mexico', 'Philippines',\n",
    "       'Egypt', 'New Zealand ', \n",
    "       'Algeria', 'UAE', 'Chile', 'Lebanon',\n",
    "       'Thailand', 'Peru', 'Namibia', 'Uruguay', 'Kuwait', 'Bangladesh',\n",
    "       'Syria', 'Colombia', 'Dominican Republic', 'Nicaragua',\n",
    "       'Hong Kong', 'Vietnam', 'Kazakhstan', 'Guadeloupe',\n",
    "       'Grenada', 'Trinidad & Tobago', 'Panama', 'Indonesia',\n",
    "       'Puerto Rico', 'Taiwan', 'Costa Rica', 'Belize',\n",
    "       'Jamaica', 'Georgia', 'Faroe Islands', 'Guatemala', 'Moldova',\n",
    "       'Mongolia', 'Honduras', 'Bahrain', 'Bolivia',\n",
    "       'El Salvador', 'Ecuador', 'Pakistan', 'Republic of Kosovo',\n",
    "       'St Vincent', 'Brunei', 'Fiji', 'Gibraltar ', 'Palestine']\n",
    "\n",
    "residence_df = residence_df[~residence_df[\"Residence\"].str.contains('|'.join(patterns_to_drop))]\n",
    "residence_df                                                            "
   ]
  },
  {
   "cell_type": "code",
   "execution_count": null,
   "id": "99c1b5e3",
   "metadata": {},
   "outputs": [],
   "source": [
    "# add Region col for USA and Europe (only those two)\n",
    "residence_df[\"USA or Eur\"] = np.nan\n",
    "\n",
    "# assign USA or Eur to simplify regions\n",
    "for index, country in residence_df.iterrows():\n",
    "    if country[\"Residence\"] == \"USA\":\n",
    "        residence_df.at[index, \"USA or Eur\"] = \"USA\"\n",
    "    else:\n",
    "        residence_df.at[index, \"USA or Eur\"] = \"Europe\"\n",
    "residence_df.head()\n",
    "\n",
    "# total hours played (per week) by USA residents vs hours played (per week) by European residents\n",
    "count_residence = residence_df[\"USA or Eur\"].value_counts()\n",
    "print(count_residence)\n",
    "\n",
    "print(\"-----------------------------------------------------------------------\")\n",
    "\n",
    "usa_hours = residence_df.loc[residence_df[\"USA or Eur\"] == \"USA\", \"Hours\"].sum()\n",
    "print(\"The total number of hours played per week by gamers in the USA is \" + str(usa_hours))\n",
    "\n",
    "eur_hours = residence_df.loc[residence_df[\"USA or Eur\"]== \"Europe\", \"Hours\"].sum()\n",
    "print(\"The total number of hours played per week by gamers in Europe is \" + str(eur_hours))\n",
    "\n",
    "print(\"-----------------------------------------------------------------------\")\n",
    "\n",
    "# average hours played (per week) by USA residents vs average hours played (per week) by European residents\n",
    "usa_hours_avg = residence_df.loc[residence_df[\"USA or Eur\"] == \"USA\", \"Hours\"].mean()\n",
    "print(\"The average number of hours played per week by gamers in the USA is \" + str(usa_hours_avg))\n",
    "\n",
    "eur_hours_avg = residence_df.loc[residence_df[\"USA or Eur\"]== \"Europe\", \"Hours\"].mean()\n",
    "print(\"The average number of hours played per week by gamers in Europe is \" + str(eur_hours_avg))\n",
    "\n",
    "print(\"-----------------------------------------------------------------------\")\n",
    "\n",
    "# average SWL scores for USA residents and European residents\n",
    "usa_swl = residence_df.loc[residence_df[\"USA or Eur\"] == \"USA\", \"SWL_T\"].mean()\n",
    "print(\"The average SWL score for USA residents is \" + str(usa_swl))\n",
    "\n",
    "eur_swl = residence_df.loc[residence_df[\"USA or Eur\"] == \"Europe\", \"SWL_T\"].mean()\n",
    "print(\"The average SWL score for European residents is \" + str(eur_swl))"
   ]
  },
  {
   "cell_type": "code",
   "execution_count": null,
   "id": "08943568",
   "metadata": {},
   "outputs": [],
   "source": [
    "# Create pie chart of US players vs European players.\n",
    "\n",
    "# format labels and colors\n",
    "labels = [\"European Players\",\"USA Players\"]\n",
    "sizes = [6498, 4569]\n",
    "colors = [\"lightskyblue\",\"red\"]\n",
    "explode = [0.1, 0]\n",
    "\n",
    "# create pie chart with the above values. Add a title\n",
    "plt.pie(sizes, explode =explode, labels = labels, colors = colors, autopct = \"%1.1f%%\", shadow = True, startangle = 90)\n",
    "plt.title(\"Distribution of USA Players and European Players\")\n",
    "plt.savefig(\"Images/USEuroPlayersPie.png\")\n",
    "plt.show()"
   ]
  },
  {
   "cell_type": "code",
   "execution_count": null,
   "id": "78b11762",
   "metadata": {},
   "outputs": [],
   "source": [
    "# Create a scatter plot comparing SWL Scores and Hours Played (USA vs Europe)\n",
    "\n",
    "# find mins and maxes of hours played and SWL scores\n",
    "hours_max = residence_df[\"Hours\"].max()\n",
    "hours_min = residence_df[\"Hours\"].min()\n",
    "\n",
    "swl_max = residence_df[\"SWL_T\"].max()\n",
    "swl_min = residence_df[\"SWL_T\"].min()\n",
    "\n",
    "print(\"Max hours played: \" + str(hours_max))\n",
    "print(\"Min hours played: \" + str(hours_min))\n",
    "print(\"Max SWL score: \" + str(swl_max))\n",
    "print(\"Min SWL score: \" + str(swl_min))\n",
    "\n",
    "# Filter data based on categories\n",
    "swl_usa = residence_df.loc[residence_df[\"USA or Eur\"] == \"USA\", \"SWL_T\"]\n",
    "swl_europe = residence_df.loc[residence_df[\"USA or Eur\"] == \"Europe\", \"SWL_T\"]\n",
    "\n",
    "# Create histograms for \"USA\" and \"Europe\" categories\n",
    "plt.figure(figsize=(12, 6))\n",
    "\n",
    "plt.hist(swl_europe, color='lightskyblue', alpha=0.7, label='Europe', bins=10)\n",
    "plt.hist(swl_usa, color='red', alpha=0.7, label='USA', bins=10)\n",
    "\n",
    "plt.title('Distribution of SWL Scores by Category')\n",
    "plt.xlabel('Satisfaction of Life Score')\n",
    "plt.ylabel('Frequency')\n",
    "plt.legend()\n",
    "plt.savefig(\"Images/SWLHist.png\")\n",
    "\n",
    "plt.show()"
   ]
  },
  {
   "cell_type": "code",
   "execution_count": null,
   "id": "1676b8b8",
   "metadata": {},
   "outputs": [],
   "source": [
    "# Create histograms for \"USA\" and \"Europe\" categories\n",
    "# Filter data based on categories\n",
    "hours_usa = residence_df.loc[residence_df[\"USA or Eur\"] == \"USA\", \"Hours\"]\n",
    "hours_europe = residence_df.loc[residence_df[\"USA or Eur\"] == \"Europe\", \"Hours\"]\n",
    "\n",
    "plt.figure(figsize=(12, 6))\n",
    "\n",
    "plt.hist(hours_europe, color='lightskyblue', alpha=0.7, label='Europe', bins=10)\n",
    "plt.hist(hours_usa, color='red', alpha=0.7, label='USA', bins=10)\n",
    "\n",
    "plt.title('Distribution of Hours Played by Category')\n",
    "plt.xlabel('Hours Played per Week')\n",
    "plt.ylabel('Frequency')\n",
    "plt.legend()\n",
    "plt.savefig(\"Images/HoursHist.png\")\n",
    "\n",
    "plt.show()"
   ]
  },
  {
   "cell_type": "code",
   "execution_count": null,
   "id": "08947fee",
   "metadata": {},
   "outputs": [],
   "source": [
    "# create summary stats for US hours played vs Euro hours played\n",
    "\n",
    "hours_df = residence_df[[\"USA or Eur\",\"Hours\"]]\n",
    "grouped_hours = hours_df.groupby(\"USA or Eur\")\n",
    "\n",
    "grouped_hours = grouped_hours.describe()\n",
    "grouped_hours\n"
   ]
  },
  {
   "cell_type": "code",
   "execution_count": null,
   "id": "75f89d43",
   "metadata": {},
   "outputs": [],
   "source": [
    "# create summary stats for US SWL scores vs Euro SWL scores\n",
    "swl_df = residence_df[[\"USA or Eur\",\"SWL_T\"]]\n",
    "grouped_swl = swl_df.groupby(\"USA or Eur\")\n",
    "\n",
    "grouped_swl = grouped_swl.describe()\n",
    "grouped_swl"
   ]
  },
  {
   "cell_type": "code",
   "execution_count": null,
   "id": "d9d326a1",
   "metadata": {},
   "outputs": [],
   "source": [
    "# t-test for SWL for both regions\n",
    "\n",
    "st.ttest_ind(swl_usa, swl_europe, equal_var=False)"
   ]
  },
  {
   "cell_type": "markdown",
   "id": "89bcffb1",
   "metadata": {},
   "source": [
    "# Research Question: Do professional players have a better satisfaction with life (SWL) score than casual players?\n",
    "\n",
    "(Analysis completed by Andrew Arjune)"
   ]
  },
  {
   "cell_type": "code",
   "execution_count": null,
   "id": "cc161088",
   "metadata": {},
   "outputs": [],
   "source": [
    "level_df = gaming_df[[\"earnings\", \"GAD_T\"]]\n",
    "level_df = level_df.rename(columns={\"S. No.\": \"Survey Number\"})\n",
    "level_df = level_df.set_index(\"Survey Number\")"
   ]
  },
  {
   "cell_type": "code",
   "execution_count": null,
   "id": "34f27a46",
   "metadata": {},
   "outputs": [],
   "source": [
    "level_df[\"earnings\"].value_counts()\n",
    "\n",
    "#keep only the top 5 playstyles\n",
    "level_filtered = level_df[(level_df[\"earnings\"] == \"I play for fun\")\n",
    "                                          |(level_df[\"earnings\"] == \"I play mostly for fun but earn a little on the side (tournament winnings  streaming  etc)\")\n",
    "                                          |(level_df[\"earnings\"] == \"I earn a living by playing this game\")]\n",
    "\n",
    "all_level = (len(level_df))      \n",
    "filtered_level = (len(level_filtered))\n",
    "\n",
    "dropped_level = all_level - filtered_level\n",
    "percent_dropped = round((dropped_level/all_level) * 100)\n",
    "\n",
    "print(f'For the scope of this analysis, only the top 3 levels of play were included. A total of {dropped_level} data points ({percent_dropped}% of the total) were dropped.')"
   ]
  },
  {
   "cell_type": "code",
   "execution_count": null,
   "id": "8858064b",
   "metadata": {},
   "outputs": [],
   "source": [
    "#create a piechart to give a visual of the level distribution\n",
    "#calculate number of each level\n",
    "level_breakdown = level_filtered[\"earnings\"].value_counts()\n",
    "#plot, format percentages, format visuals, add title\n",
    "level_breakdown.plot(kind = \"pie\", title = \"Breakdown of Levels\",\n",
    "                     autopct = \"%1.1f%%\", explode = (0.1, 0, 0, 0, 0), shadow = True, \n",
    "                     startangle = 140, ylabel = \"\")\n",
    "\n",
    "plt.show()"
   ]
  },
  {
   "cell_type": "code",
   "execution_count": null,
   "id": "d08dc23f",
   "metadata": {},
   "outputs": [],
   "source": [
    "l_min = level_filtered[\"GAD_T\"].min()\n",
    "l_max = level_filtered[\"GAD_T\"].max()\n",
    "l_mean = level_filtered[\"GAD_T\"].mean()\n",
    "l_median = level_filtered[\"GAD_T\"].median()\n",
    "l_std = level_filtered[\"GAD_T\"].std()\n",
    "\n",
    "l_GAD_summary = pd.DataFrame([{\"Min. GAD Result\": l_min, \"Max. GAD Result\": l_max,\n",
    "\"Mean GAD Result\": l_mean, \"Median GAD Result\": l_median, \"GAD Std. Dev.\": l_std}])\n",
    "\n",
    "l_GAD_summary[\"Mean GAD Result\"] = round(l_GAD_summary[\"Mean GAD Result\"], 2)\n",
    "l_GAD_summary[\"GAD Std. Dev.\"] = round(l_GAD_summary[\"GAD Std. Dev.\"], 2)\n",
    "\n",
    "l_GAD_summary"
   ]
  },
  {
   "cell_type": "code",
   "execution_count": null,
   "id": "b2a1501d",
   "metadata": {},
   "outputs": [],
   "source": [
    "gad_summary = level_filtered.groupby([\"earnings\"])\n",
    "\n",
    "e_min = gad_summary[\"GAD_T\"].min()\n",
    "e_max = gad_summary[\"GAD_T\"].max()\n",
    "e_mean = gad_summary[\"GAD_T\"].mean()\n",
    "e_median = gad_summary[\"GAD_T\"].median()\n",
    "e_std = gad_summary[\"GAD_T\"].std()\n",
    "\n",
    "e_GAD_summary = pd.DataFrame({\"Min. GAD Result\": e_min, \"Max. GAD Result\": e_max,\n",
    "\"Mean GAD Result\": e_mean, \"Median GAD Result\": e_median, \"GAD Std. Dev.\": e_std})\n",
    "\n",
    "e_GAD_summary[\"Mean GAD Result\"] = round(e_GAD_summary[\"Mean GAD Result\"], 2)\n",
    "e_GAD_summary[\"GAD Std. Dev.\"] = round(e_GAD_summary[\"GAD Std. Dev.\"], 2)\n",
    "\n",
    "e_GAD_summary\n",
    "\n",
    "e_GAD_short_summary = pd.DataFrame({\"Mean GAD Result\": e_mean, \"Median GAD Result\": e_median, \"GAD Std. Dev.\": e_std})\n",
    "e_GAD_short_summary[\"Mean GAD Result\"] = round(e_GAD_summary[\"Mean GAD Result\"], 2)\n",
    "e_GAD_short_summary[\"GAD Std. Dev.\"] = round(e_GAD_summary[\"GAD Std. Dev.\"], 2)\n",
    "\n",
    "e_GAD_short_summary"
   ]
  },
  {
   "cell_type": "code",
   "execution_count": null,
   "id": "1a4e65d0",
   "metadata": {},
   "outputs": [],
   "source": [
    "fig1, ax1 = plt.subplots()\n",
    "e_list = [\"I play for fun\", \n",
    "                \"I play mostly for fun but earn a little on the side (tournament winnings  streaming  etc)\",\n",
    "                \"I earn a living by playing this game\", ]\n",
    "\n",
    "e_plot = []\n",
    "\n",
    "for level in e_list:\n",
    "    to_plot = level_filtered.loc[(level_filtered[\"earnings\"] == earnings)][\"GAD_T\"]\n",
    "    e_plot.append(to_plot)\n",
    "\n",
    "ax1.boxplot(e_plot)\n",
    "ax1.set_xticklabels(e_list, wrap = True)\n",
    "ax1.set_ylabel(\"GAD Score\")\n",
    "plt.title(\"GAD Score Distribution by Competitive Level\")\n",
    "#https://stackoverflow.com/questions/26700598/matplotlib-showing-x-tick-labels-overlapping\n",
    "fig1.autofmt_xdate()\n",
    "\n",
    "plt.show()"
   ]
  },
  {
   "cell_type": "markdown",
   "id": "e166e5c1",
   "metadata": {},
   "source": [
    "# Research Question: Are gamers that play alone more anxious than those who play socially?\n",
    "\n",
    "(Analysis completed by Anna Bitzer)"
   ]
  },
  {
   "cell_type": "code",
   "execution_count": null,
   "id": "6a0552ce",
   "metadata": {},
   "outputs": [],
   "source": [
    "#filter dataset further to only relevant columns\n",
    "playstyle_df = gaming_df[[\"S. No.\", \"Gender\", \"Age\", \"Playstyle\", \"GAD_T\"]]\n",
    "playstyle_df = playstyle_df.rename(columns={\"S. No.\": \"Survey Number\"})\n",
    "playstyle_df = playstyle_df.set_index(\"Survey Number\")\n",
    "\n",
    "playstyle_df.head()"
   ]
  },
  {
   "cell_type": "code",
   "execution_count": null,
   "id": "0097ba26",
   "metadata": {},
   "outputs": [],
   "source": [
    "#check for list of play styles\n",
    "playstyle_df[\"Playstyle\"].value_counts()\n",
    "\n",
    "#keep only the top 5 playstyles\n",
    "playstyle_filtered = playstyle_df[(playstyle_df[\"Playstyle\"] == \"Multiplayer - online - with real life friends\")\n",
    "                                          |(playstyle_df[\"Playstyle\"] == \"Multiplayer - online - with strangers\")\n",
    "                                          |(playstyle_df[\"Playstyle\"] == \"Multiplayer - online - with online acquaintances or teammates\")\n",
    "                                          |(playstyle_df[\"Playstyle\"] == \"Singleplayer\")\n",
    "                                          |(playstyle_df[\"Playstyle\"] == \"Multiplayer - offline (people in the same room)\")]\n",
    "\n",
    "all_playstyle = (len(playstyle_df))      \n",
    "filtered_playstyle = (len(playstyle_filtered))\n",
    "\n",
    "dropped_playstyle = all_playstyle - filtered_playstyle\n",
    "percent_dropped = round((dropped_playstyle/all_playstyle) * 100)\n",
    "\n",
    "print(f'For the scope of this analysis, only the top 5 playstyles were included. A total of {dropped_playstyle} data points ({percent_dropped}% of the total) were dropped.')\n"
   ]
  },
  {
   "cell_type": "code",
   "execution_count": null,
   "id": "042fd665",
   "metadata": {},
   "outputs": [],
   "source": [
    "#create a piechart to give a visual of the playstyle distribution\n",
    "#calculate number of each playstyle\n",
    "playstyle_breakdown = playstyle_filtered[\"Playstyle\"].value_counts()\n",
    "#plot, format percentages, format visuals, add title\n",
    "playstyle_breakdown.plot(kind = \"pie\", title = \"Breakdown of Playstyles\",\n",
    "                     autopct = \"%1.1f%%\", explode = (0.1, 0, 0, 0, 0), shadow = True, \n",
    "                     startangle = 140, ylabel = \"\")\n",
    "\n",
    "plt.show()\n"
   ]
  },
  {
   "cell_type": "code",
   "execution_count": null,
   "id": "2b47f0eb",
   "metadata": {},
   "outputs": [],
   "source": [
    "#calculate summary stats of GAD score for overall population (min, max, mean, median, std dev)\n",
    "#p + stat denotes overall population result\n",
    "p_min = playstyle_filtered[\"GAD_T\"].min()\n",
    "p_max = playstyle_filtered[\"GAD_T\"].max()\n",
    "p_mean = playstyle_filtered[\"GAD_T\"].mean()\n",
    "p_median = playstyle_filtered[\"GAD_T\"].median()\n",
    "p_std = playstyle_filtered[\"GAD_T\"].std()\n",
    "\n",
    "#add summary stats to a dataframe\n",
    "p_GAD_summary = pd.DataFrame([{\"Min. GAD Result\": p_min, \"Max. GAD Result\": p_max,\n",
    "\"Mean GAD Result\": p_mean, \"Median GAD Result\": p_median, \"GAD Std. Dev.\": p_std}])\n",
    "\n",
    "#format dataframe\n",
    "p_GAD_summary[\"Mean GAD Result\"] = round(p_GAD_summary[\"Mean GAD Result\"], 2)\n",
    "p_GAD_summary[\"GAD Std. Dev.\"] = round(p_GAD_summary[\"GAD Std. Dev.\"], 2)\n",
    "\n",
    "p_GAD_summary\n"
   ]
  },
  {
   "cell_type": "code",
   "execution_count": null,
   "id": "bc121adb",
   "metadata": {},
   "outputs": [],
   "source": [
    "#calculate min, max, mean, median, std. dev. of GAD score for each playstyle\n",
    "gad_summary = playstyle_filtered.groupby([\"Playstyle\"])\n",
    "#ps + stat denotes specific playstyle\n",
    "ps_min = gad_summary[\"GAD_T\"].min()\n",
    "ps_max = gad_summary[\"GAD_T\"].max()\n",
    "ps_mean = gad_summary[\"GAD_T\"].mean()\n",
    "ps_median = gad_summary[\"GAD_T\"].median()\n",
    "ps_std = gad_summary[\"GAD_T\"].std()\n",
    "\n",
    "#add summary stats to a dataframe\n",
    "ps_GAD_summary = pd.DataFrame({\"Min. GAD Result\": ps_min, \"Max. GAD Result\": ps_max,\n",
    "\"Mean GAD Result\": ps_mean, \"Median GAD Result\": ps_median, \"GAD Std. Dev.\": ps_std})\n",
    "\n",
    "#format dataframe\n",
    "ps_GAD_summary[\"Mean GAD Result\"] = round(ps_GAD_summary[\"Mean GAD Result\"], 2)\n",
    "ps_GAD_summary[\"GAD Std. Dev.\"] = round(ps_GAD_summary[\"GAD Std. Dev.\"], 2)\n",
    "\n",
    "ps_GAD_summary\n",
    "\n",
    "ps_GAD_short_summary = pd.DataFrame({\"Mean GAD Result\": ps_mean, \"Median GAD Result\": ps_median, \"GAD Std. Dev.\": ps_std})\n",
    "ps_GAD_short_summary[\"Mean GAD Result\"] = round(ps_GAD_summary[\"Mean GAD Result\"], 2)\n",
    "ps_GAD_short_summary[\"GAD Std. Dev.\"] = round(ps_GAD_summary[\"GAD Std. Dev.\"], 2)\n",
    "\n",
    "ps_GAD_short_summary"
   ]
  },
  {
   "cell_type": "markdown",
   "id": "efbd6a17",
   "metadata": {},
   "source": [
    "While all styles of playing video games were associated with similar average GAD scores, the total average GAD score of players who played alone was higher than players that played multiplayer."
   ]
  },
  {
   "cell_type": "code",
   "execution_count": null,
   "id": "adc573c2",
   "metadata": {},
   "outputs": [],
   "source": [
    "#generate boxplot with playstyle versus GAD score\n",
    "fig1, ax1 = plt.subplots()\n",
    "ps_list = [\"Multiplayer - offline (people in the same room)\", \n",
    "                \"Multiplayer - online - with real life friends\",\n",
    "                \"Multiplayer - online - with strangers\", \n",
    "                \"Multiplayer - online - with online acquaintances or teammates\",\n",
    "                \"Singleplayer\"]\n",
    "#empty list to hold plot data in                \n",
    "ps_plot = []\n",
    "\n",
    "#select data for each playstyle\n",
    "for playstyle in ps_list:\n",
    "    to_plot = playstyle_filtered.loc[(playstyle_filtered[\"Playstyle\"] == playstyle)][\"GAD_T\"]\n",
    "    ps_plot.append(to_plot)\n",
    "\n",
    "ax1.boxplot(ps_plot)\n",
    "ax1.set_xticklabels(ps_list, wrap = True)\n",
    "ax1.set_ylabel(\"GAD Score\")\n",
    "plt.title(\"GAD Score Distribution by Playstyle\")\n",
    "#https://stackoverflow.com/questions/26700598/matplotlib-showing-x-tick-labels-overlapping\n",
    "fig1.autofmt_xdate()\n",
    "\n",
    "plt.show()\n"
   ]
  },
  {
   "cell_type": "markdown",
   "id": "88d7e108",
   "metadata": {},
   "source": [
    "The GAD data was not normally distributed, and was instead right skewed, with the median less than the mean for all playstyle categories."
   ]
  },
  {
   "cell_type": "code",
   "execution_count": null,
   "id": "58bb9d7b",
   "metadata": {},
   "outputs": [],
   "source": [
    "#notably, there are a lot of outliers for each Playstyle determine the list of outliers for each \n",
    "outliers = []\n",
    "\n",
    "for playstyle in ps_list:\n",
    "    #first, determine the quartiles\n",
    "    quartiles = list(playstyle_filtered[(playstyle_filtered[\"Playstyle\"] == playstyle)][\"GAD_T\"].quantile([0.25, 0.5, 0.75]))\n",
    "    lower_q = quartiles[0]\n",
    "    upper_q = quartiles[2]\n",
    "    iqr = upper_q - lower_q\n",
    "    #set boundaries to search for outliers\n",
    "    upper_outliers = upper_q + (1.5*iqr)\n",
    "    lower_outliers = lower_q - (1.5*iqr)\n",
    "    #set variable for list of GAD score for specific playstyle\n",
    "    gad_scores = playstyle_filtered[(playstyle_filtered[\"Playstyle\"] == playstyle)][\"GAD_T\"]\n",
    "    #determine how many outliers there are\n",
    "    upper_outliers_count = gad_scores.loc[(gad_scores > upper_outliers)].count()\n",
    "    lower_outliers_count = gad_scores.loc[(gad_scores < lower_outliers)].count()\n",
    "    #determine total number of outliers\n",
    "    outlier_total = upper_outliers_count + lower_outliers_count\n",
    "    #determine what percentage of total results are considered outliers\n",
    "    outlier_percent = round(outlier_total/(gad_scores.count()) *100)\n",
    "    print(f'{playstyle} has {outlier_total} outliers ({outlier_percent}% of data points).')\n",
    "    #reset outlier list before next playstyle\n",
    "    outliers = []\n"
   ]
  },
  {
   "cell_type": "code",
   "execution_count": null,
   "id": "fe719bfc",
   "metadata": {},
   "outputs": [],
   "source": [
    "#the largest difference in mean GAD score is between the groups Multiplayer - offline (people in the same room) and Singleplayer\n",
    "#use the Welch's t-test to determine if there is a significant difference between these two groups\n",
    "multi_offline = playstyle_filtered[(playstyle_filtered[\"Playstyle\"] == \"Multiplayer - offline (people in the same room)\")][\"GAD_T\"]\n",
    "single = playstyle_filtered[(playstyle_filtered[\"Playstyle\"] == \"Singleplayer\")][\"GAD_T\"]\n",
    "\n",
    "stats.ttest_ind(multi_offline, single, equal_var = False)"
   ]
  },
  {
   "cell_type": "markdown",
   "id": "c1fba033",
   "metadata": {},
   "source": [
    "\n",
    "A Welch's t-test was performed to compare the group with the lowest mean GAD score of 4.21, gamers that played offline multiplayer, against the group with the highest mean GAD score of 5.80, gamers that played single player. It was found that there is a slightly significant difference between the two groups, with a p-value of 0.03. \n",
    "\n",
    "It should be noted that these two groups were by far the smallest of the playstyles analyzed - 5.8% of the population played single player, and only 0.4% of the population played offline multiplayer. \n",
    "\n",
    "Sources used by Anna:\n",
    "https://stackoverflow.com/questions/26700598/matplotlib-showing-x-tick-labels-overlapping\n",
    "Bootcampspot: Xpert Learning Assistant (used for outlier section, and for help formatting boxplot)"
   ]
  }
 ],
 "metadata": {
  "kernelspec": {
   "display_name": "Python 3 (ipykernel)",
   "language": "python",
   "name": "python3"
  },
  "language_info": {
   "codemirror_mode": {
    "name": "ipython",
    "version": 3
   },
   "file_extension": ".py",
   "mimetype": "text/x-python",
   "name": "python",
   "nbconvert_exporter": "python",
   "pygments_lexer": "ipython3",
   "version": "3.10.13"
  }
 },
 "nbformat": 4,
 "nbformat_minor": 5
}
