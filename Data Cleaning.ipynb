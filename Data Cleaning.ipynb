{
 "cells": [
  {
   "cell_type": "code",
   "execution_count": null,
   "id": "b47f5d17",
   "metadata": {},
   "outputs": [],
   "source": [
    "# import\n",
    "import numpy as np\n",
    "import pandas as pd\n",
    "from pathlib import Path\n",
    "import chardet\n"
   ]
  },
  {
   "cell_type": "code",
   "execution_count": null,
   "id": "2c77345f",
   "metadata": {},
   "outputs": [],
   "source": [
    "# Create path to CSV\n",
    "gaming = Path(\"GamingStudy\\Scrub_gaming_data.csv\")"
   ]
  },
  {
   "cell_type": "code",
   "execution_count": null,
   "id": "a4e8c6c7",
   "metadata": {},
   "outputs": [],
   "source": [
    "# read in binary mode and detect encoding\n",
    "# with open(\"../Scrub gaming data.csv\", 'rb') as f:\n",
    "#     result = chardet.detect(f.read())\n",
    "    \n",
    "# encoding = result['encoding']\n",
    "\n"
   ]
  },
  {
   "cell_type": "code",
   "execution_count": null,
   "id": "2da76cbf",
   "metadata": {},
   "outputs": [],
   "source": [
    "# Read data file with Pandas\n",
    "# gaming_df = pd.read_csv(gaming, encoding = \"ISO-8859-1\")\n",
    "gaming_df = pd.read_csv(gaming)\n",
    "gaming_df[\"whyplay\"].value_counts()\n",
    "gaming_df"
   ]
  },
  {
   "cell_type": "code",
   "execution_count": null,
   "id": "e3d36ba1",
   "metadata": {
    "scrolled": true
   },
   "outputs": [],
   "source": [
    "gaming_df.columns"
   ]
  },
  {
   "cell_type": "code",
   "execution_count": null,
   "id": "35b39c4f",
   "metadata": {
    "scrolled": true
   },
   "outputs": [],
   "source": [
    "clean_game = gaming_df[[\"S. No.\",\"Game\",\"Platform\",\"Hours\",\"earnings\",\"whyplay\",\"Gender\",\"Age\",\"Work\",\"Degree\",\"Residence\",\"Playstyle\",\"GAD_T\",\"SWL_T\",\"SPIN_T\"]]\n",
    "clean_game"
   ]
  },
  {
   "cell_type": "code",
   "execution_count": null,
   "id": "73a2de07",
   "metadata": {},
   "outputs": [],
   "source": [
    "clean_game.to_csv(\"clean_game_data.csv\")\n"
   ]
  },
  {
   "cell_type": "code",
   "execution_count": null,
   "id": "94049c80",
   "metadata": {},
   "outputs": [],
   "source": [
    "# Aliyu's Code Starts Here"
   ]
  },
  {
   "cell_type": "code",
   "execution_count": null,
   "id": "9c84bd0a",
   "metadata": {},
   "outputs": [],
   "source": []
  },
  {
   "cell_type": "code",
   "execution_count": null,
   "id": "72179869",
   "metadata": {},
   "outputs": [],
   "source": []
  },
  {
   "cell_type": "code",
   "execution_count": null,
   "id": "f31d98e3",
   "metadata": {},
   "outputs": [],
   "source": []
  },
  {
   "cell_type": "code",
   "execution_count": null,
   "id": "0749b2e1",
   "metadata": {},
   "outputs": [],
   "source": []
  },
  {
   "cell_type": "code",
   "execution_count": null,
   "id": "f0a8b73a",
   "metadata": {},
   "outputs": [],
   "source": []
  },
  {
   "cell_type": "code",
   "execution_count": null,
   "id": "36005113",
   "metadata": {},
   "outputs": [],
   "source": []
  },
  {
   "cell_type": "code",
   "execution_count": null,
   "id": "3c4a74df",
   "metadata": {},
   "outputs": [],
   "source": []
  },
  {
   "cell_type": "code",
   "execution_count": null,
   "id": "6c12404e",
   "metadata": {},
   "outputs": [],
   "source": []
  },
  {
   "cell_type": "code",
   "execution_count": null,
   "id": "7bc8526e",
   "metadata": {},
   "outputs": [],
   "source": []
  },
  {
   "cell_type": "code",
   "execution_count": null,
   "id": "9f7fe6ea",
   "metadata": {},
   "outputs": [],
   "source": []
  },
  {
   "cell_type": "code",
   "execution_count": null,
   "id": "96bfa74c",
   "metadata": {},
   "outputs": [],
   "source": []
  },
  {
   "cell_type": "code",
   "execution_count": null,
   "id": "b0bcf59b",
   "metadata": {},
   "outputs": [],
   "source": []
  },
  {
   "cell_type": "code",
   "execution_count": null,
   "id": "09c3d87e",
   "metadata": {},
   "outputs": [],
   "source": []
  },
  {
   "cell_type": "code",
   "execution_count": null,
   "id": "dfb982c8",
   "metadata": {},
   "outputs": [],
   "source": []
  },
  {
   "cell_type": "code",
   "execution_count": null,
   "id": "dc6d7503",
   "metadata": {},
   "outputs": [],
   "source": [
    "#Aliyu's code stops here\n",
    "\n",
    "#Amy's code starts here"
   ]
  },
  {
   "cell_type": "code",
   "execution_count": null,
   "id": "e3475409",
   "metadata": {},
   "outputs": [],
   "source": []
  },
  {
   "cell_type": "code",
   "execution_count": null,
   "id": "99c1b5e3",
   "metadata": {},
   "outputs": [],
   "source": []
  },
  {
   "cell_type": "code",
   "execution_count": null,
   "id": "545594bf",
   "metadata": {},
   "outputs": [],
   "source": []
  },
  {
   "cell_type": "code",
   "execution_count": null,
   "id": "08947fee",
   "metadata": {},
   "outputs": [],
   "source": []
  },
  {
   "cell_type": "code",
   "execution_count": null,
   "id": "75f89d43",
   "metadata": {},
   "outputs": [],
   "source": []
  },
  {
   "cell_type": "code",
   "execution_count": null,
   "id": "a36724d3",
   "metadata": {},
   "outputs": [],
   "source": []
  },
  {
   "cell_type": "code",
   "execution_count": null,
   "id": "d9d326a1",
   "metadata": {},
   "outputs": [],
   "source": []
  },
  {
   "cell_type": "code",
   "execution_count": null,
   "id": "fabed60e",
   "metadata": {},
   "outputs": [],
   "source": []
  },
  {
   "cell_type": "code",
   "execution_count": null,
   "id": "d73a11d9",
   "metadata": {},
   "outputs": [],
   "source": []
  },
  {
   "cell_type": "code",
   "execution_count": null,
   "id": "4566de36",
   "metadata": {},
   "outputs": [],
   "source": []
  },
  {
   "cell_type": "code",
   "execution_count": null,
   "id": "1843906b",
   "metadata": {},
   "outputs": [],
   "source": []
  },
  {
   "cell_type": "code",
   "execution_count": null,
   "id": "3e9874ec",
   "metadata": {},
   "outputs": [],
   "source": []
  },
  {
   "cell_type": "code",
   "execution_count": null,
   "id": "a8ee9ece",
   "metadata": {},
   "outputs": [],
   "source": []
  },
  {
   "cell_type": "code",
   "execution_count": null,
   "id": "3add2c03",
   "metadata": {},
   "outputs": [],
   "source": []
  },
  {
   "cell_type": "code",
   "execution_count": null,
   "id": "89bcffb1",
   "metadata": {},
   "outputs": [],
   "source": [
    "#Amy's code starts here\n",
    "#Andrew's code starts here"
   ]
  },
  {
   "cell_type": "code",
   "execution_count": null,
   "id": "8058704b",
   "metadata": {},
   "outputs": [],
   "source": []
  },
  {
   "cell_type": "code",
   "execution_count": null,
   "id": "cc161088",
   "metadata": {},
   "outputs": [],
   "source": []
  },
  {
   "cell_type": "code",
   "execution_count": null,
   "id": "34f27a46",
   "metadata": {},
   "outputs": [],
   "source": []
  },
  {
   "cell_type": "code",
   "execution_count": null,
   "id": "8858064b",
   "metadata": {},
   "outputs": [],
   "source": []
  },
  {
   "cell_type": "code",
   "execution_count": null,
   "id": "d08dc23f",
   "metadata": {},
   "outputs": [],
   "source": []
  },
  {
   "cell_type": "code",
   "execution_count": null,
   "id": "b2a1501d",
   "metadata": {},
   "outputs": [],
   "source": []
  },
  {
   "cell_type": "code",
   "execution_count": null,
   "id": "1a4e65d0",
   "metadata": {},
   "outputs": [],
   "source": []
  },
  {
   "cell_type": "code",
   "execution_count": null,
   "id": "e9428c6e",
   "metadata": {},
   "outputs": [],
   "source": []
  },
  {
   "cell_type": "code",
   "execution_count": null,
   "id": "4ac93d64",
   "metadata": {},
   "outputs": [],
   "source": []
  },
  {
   "cell_type": "code",
   "execution_count": null,
   "id": "0a007fe5",
   "metadata": {},
   "outputs": [],
   "source": []
  },
  {
   "cell_type": "code",
   "execution_count": null,
   "id": "deb0cbe8",
   "metadata": {},
   "outputs": [],
   "source": []
  },
  {
   "cell_type": "code",
   "execution_count": null,
   "id": "7f1ddfce",
   "metadata": {},
   "outputs": [],
   "source": []
  },
  {
   "cell_type": "code",
   "execution_count": null,
   "id": "76827991",
   "metadata": {},
   "outputs": [],
   "source": []
  },
  {
   "cell_type": "code",
   "execution_count": null,
   "id": "4b560b32",
   "metadata": {},
   "outputs": [],
   "source": []
  },
  {
   "cell_type": "code",
   "execution_count": null,
   "id": "b4855ac4",
   "metadata": {},
   "outputs": [],
   "source": [
    "#Andrew's code stops here\n",
    "#Anna's code starts here"
   ]
  },
  {
   "cell_type": "markdown",
   "id": "e166e5c1",
   "metadata": {},
   "source": [
    "Question: Are gamers that play alone more anxious than those who play socially?\n",
    "\n",
    "(Analysis completed by Anna Bitzer)"
   ]
  },
  {
   "cell_type": "code",
   "execution_count": null,
   "id": "32100a8a",
   "metadata": {},
   "outputs": [],
   "source": [
    "#question specific dependencies\n",
    "import matplotlib.pyplot as plt\n",
    "import scipy.stats as stats"
   ]
  },
  {
   "cell_type": "code",
   "execution_count": null,
   "id": "6a0552ce",
   "metadata": {},
   "outputs": [],
   "source": [
    "#filter dataset further to only relevant columns\n",
    "playstyle_df = gaming_df[[\"S. No.\", \"Gender\", \"Age\", \"Playstyle\", \"GAD_T\"]]\n",
    "playstyle_df = playstyle_df.rename(columns={\"S. No.\": \"Survey Number\"})\n",
    "playstyle_df = playstyle_df.set_index(\"Survey Number\")\n",
    "\n",
    "playstyle_df.head()"
   ]
  },
  {
   "cell_type": "code",
   "execution_count": null,
   "id": "0097ba26",
   "metadata": {},
   "outputs": [],
   "source": [
    "#check for list of play styles\n",
    "playstyle_df[\"Playstyle\"].value_counts()\n",
    "\n",
    "#keep only the top 5 playstyles\n",
    "playstyle_filtered = playstyle_df[(playstyle_df[\"Playstyle\"] == \"Multiplayer - online - with real life friends\")\n",
    "                                          |(playstyle_df[\"Playstyle\"] == \"Multiplayer - online - with strangers\")\n",
    "                                          |(playstyle_df[\"Playstyle\"] == \"Multiplayer - online - with online acquaintances or teammates\")\n",
    "                                          |(playstyle_df[\"Playstyle\"] == \"Singleplayer\")\n",
    "                                          |(playstyle_df[\"Playstyle\"] == \"Multiplayer - offline (people in the same room)\")]\n",
    "\n",
    "all_playstyle = (len(playstyle_df))      \n",
    "filtered_playstyle = (len(playstyle_filtered))\n",
    "\n",
    "dropped_playstyle = all_playstyle - filtered_playstyle\n",
    "percent_dropped = round((dropped_playstyle/all_playstyle) * 100)\n",
    "\n",
    "print(f'For the scope of this analysis, only the top 5 playstyles were included. A total of {dropped_playstyle} data points ({percent_dropped}% of the total) were dropped.')\n"
   ]
  },
  {
   "cell_type": "code",
   "execution_count": null,
   "id": "042fd665",
   "metadata": {},
   "outputs": [],
   "source": [
    "#create a piechart to give a visual of the playstyle distribution\n",
    "#calculate number of each playstyle\n",
    "playstyle_breakdown = playstyle_filtered[\"Playstyle\"].value_counts()\n",
    "#plot, format percentages, format visuals, add title\n",
    "playstyle_breakdown.plot(kind = \"pie\", title = \"Breakdown of Playstyles\",\n",
    "                     autopct = \"%1.1f%%\", explode = (0.1, 0, 0, 0, 0), shadow = True, \n",
    "                     startangle = 140, ylabel = \"\")\n",
    "\n",
    "plt.show()\n"
   ]
  },
  {
   "cell_type": "code",
   "execution_count": null,
   "id": "2b47f0eb",
   "metadata": {},
   "outputs": [],
   "source": [
    "#calculate summary stats of GAD score for overall population (min, max, mean, median, std dev)\n",
    "#p + stat denotes overall population result\n",
    "p_min = playstyle_filtered[\"GAD_T\"].min()\n",
    "p_max = playstyle_filtered[\"GAD_T\"].max()\n",
    "p_mean = playstyle_filtered[\"GAD_T\"].mean()\n",
    "p_median = playstyle_filtered[\"GAD_T\"].median()\n",
    "p_std = playstyle_filtered[\"GAD_T\"].std()\n",
    "\n",
    "#add summary stats to a dataframe\n",
    "p_GAD_summary = pd.DataFrame([{\"Min. GAD Result\": p_min, \"Max. GAD Result\": p_max,\n",
    "\"Mean GAD Result\": p_mean, \"Median GAD Result\": p_median, \"GAD Std. Dev.\": p_std}])\n",
    "\n",
    "#format dataframe\n",
    "p_GAD_summary[\"Mean GAD Result\"] = round(p_GAD_summary[\"Mean GAD Result\"], 2)\n",
    "p_GAD_summary[\"GAD Std. Dev.\"] = round(p_GAD_summary[\"GAD Std. Dev.\"], 2)\n",
    "\n",
    "p_GAD_summary\n"
   ]
  },
  {
   "cell_type": "code",
   "execution_count": null,
   "id": "bc121adb",
   "metadata": {},
   "outputs": [],
   "source": [
    "#calculate min, max, mean, median, std. dev. of GAD score for each playstyle\n",
    "gad_summary = playstyle_filtered.groupby([\"Playstyle\"])\n",
    "#ps + stat denotes specific playstyle\n",
    "ps_min = gad_summary[\"GAD_T\"].min()\n",
    "ps_max = gad_summary[\"GAD_T\"].max()\n",
    "ps_mean = gad_summary[\"GAD_T\"].mean()\n",
    "ps_median = gad_summary[\"GAD_T\"].median()\n",
    "ps_std = gad_summary[\"GAD_T\"].std()\n",
    "\n",
    "#add summary stats to a dataframe\n",
    "ps_GAD_summary = pd.DataFrame({\"Min. GAD Result\": ps_min, \"Max. GAD Result\": ps_max,\n",
    "\"Mean GAD Result\": ps_mean, \"Median GAD Result\": ps_median, \"GAD Std. Dev.\": ps_std})\n",
    "\n",
    "#format dataframe\n",
    "ps_GAD_summary[\"Mean GAD Result\"] = round(ps_GAD_summary[\"Mean GAD Result\"], 2)\n",
    "ps_GAD_summary[\"GAD Std. Dev.\"] = round(ps_GAD_summary[\"GAD Std. Dev.\"], 2)\n",
    "\n",
    "ps_GAD_summary"
   ]
  },
  {
   "cell_type": "code",
   "execution_count": null,
   "id": "adc573c2",
   "metadata": {},
   "outputs": [],
   "source": [
    "#generate boxplot with playstyle versus GAD score\n",
    "fig1, ax1 = plt.subplots()\n",
    "ps_list = [\"Multiplayer - offline (people in the same room)\", \n",
    "                \"Multiplayer - online - with real life friends\",\n",
    "                \"Multiplayer - online - with strangers\", \n",
    "                \"Multiplayer - online - with online acquaintances or teammates\",\n",
    "                \"Singleplayer\"]\n",
    "#empty list to hold plot data in                \n",
    "ps_plot = []\n",
    "\n",
    "#select data for each playstyle\n",
    "for playstyle in ps_list:\n",
    "    to_plot = playstyle_filtered.loc[(playstyle_filtered[\"Playstyle\"] == playstyle)][\"GAD_T\"]\n",
    "    ps_plot.append(to_plot)\n",
    "\n",
    "ax1.boxplot(ps_plot)\n",
    "ax1.set_xticklabels(ps_list, rotation = 90)\n",
    "ax1.set_ylabel(\"GAD Score\")\n",
    "plt.title(\"GAD Score Distribution by Playstyle\")\n",
    "\n",
    "plt.show()\n"
   ]
  },
  {
   "cell_type": "code",
   "execution_count": null,
   "id": "58bb9d7b",
   "metadata": {},
   "outputs": [],
   "source": [
    "#notably, there are a lot of outliers for each Playstyle determine the list of outliers for each \n",
    "outliers = []\n",
    "\n",
    "for playstyle in ps_list:\n",
    "    #first, determine the quartiles\n",
    "    quartiles = list(playstyle_filtered[(playstyle_filtered[\"Playstyle\"] == playstyle)][\"GAD_T\"].quantile([0.25, 0.5, 0.75]))\n",
    "    lower_q = quartiles[0]\n",
    "    upper_q = quartiles[2]\n",
    "    iqr = upper_q - lower_q\n",
    "    #set boundaries to search for outliers\n",
    "    upper_outliers = upper_q + (1.5*iqr)\n",
    "    lower_outliers = lower_q - (1.5*iqr)\n",
    "    #set variable for list of GAD score for specific playstyle\n",
    "    gad_scores = playstyle_filtered[(playstyle_filtered[\"Playstyle\"] == playstyle)][\"GAD_T\"]\n",
    "    #determine how many outliers there are\n",
    "    upper_outliers_count = gad_scores.loc[(gad_scores > upper_outliers)].count()\n",
    "    lower_outliers_count = gad_scores.loc[(gad_scores < lower_outliers)].count()\n",
    "    #determine total number of outliers\n",
    "    outlier_total = upper_outliers_count + lower_outliers_count\n",
    "    #determine what percentage of total results are considered outliers\n",
    "    outlier_percent = round(outlier_total/(gad_scores.count()) *100)\n",
    "    print(f'{playstyle} has {outlier_total} outliers ({outlier_percent}% of data points).')\n",
    "    #reset outlier list before next playstyle\n",
    "    outliers = []\n"
   ]
  },
  {
   "cell_type": "code",
   "execution_count": null,
   "id": "fe719bfc",
   "metadata": {},
   "outputs": [],
   "source": [
    "#the largest difference in mean GAD score is between the groups Multiplayer - offline (people in the same room) and Singleplayer\n",
    "#use the Welch's t-test to determine if there is a significant difference between these two groups\n",
    "multi_offline = playstyle_filtered[(playstyle_filtered[\"Playstyle\"] == \"Multiplayer - offline (people in the same room)\")][\"GAD_T\"]\n",
    "single = playstyle_filtered[(playstyle_filtered[\"Playstyle\"] == \"Singleplayer\")][\"GAD_T\"]\n",
    "\n",
    "stats.ttest_ind(multi_offline, single, equal_var = False)"
   ]
  },
  {
   "cell_type": "markdown",
   "id": "c1fba033",
   "metadata": {},
   "source": [
    "Conclusion: The results of this data found that while all styles of playing video games were associated with similar average GAD scores, the total average GAD score of players who played alone was higher than players that played multiplayer. The mean GAD scores of players that played offline multiplayer, with real life friends (mean GAD = 4.21) and online multiplayer, with real life friends (mean GAD = 4.77) were below the overall population mean (GAD = 5.22), suggesting that less anxious players may be more comfortable playing with people they know in real life. The remaining playstyles multiplayer-online-with online acquaintances or teammates, multiplayer-online-with strangers and single player had mean GAD scores above the population mean, of 5.47, 5.57 and 5.80 respectively.\n",
    "\n",
    "A Welch's t-test was performed to compare the group with the lowest mean GAD score of 4.21, gamers that played offline multiplayer, against the group with the highest mean GAD score of 5.80, gamers that played single player. It was found that there is a slightly significant difference between the two groups, with a p-value of 0.03. It should be noted that these two groups were by far the smallest of the playstyles analyzed - 5.8% of the population played single player, and only 0.4% of the population played offline multiplayer. \n",
    "\n",
    "The GAD data was not normally distributed, and was instead right skewed, with the median less than the mean for all playstyle categories. Results for all playstyles ranged from 0-21 (with the exception of the multiplayer-offline-friends in the same room group, which had a range of 0-20). There were a significant amount of high outliers for each group, bewteen 2-8% of data points were outside of the range of 1.5 times the IQR for each group. \n",
    "\n",
    "There were some limitations to this dataset. The majority of respondents to this dataset listed League of Legends as the primary video game that they played. As this is a multiplayer game, the distribution of the data is skewed away from single player gamers. A dataset with a more even breakdown of single player versus multiplayer gamers would allow a more accurate view of anxiety levels of those who game alone versus those who game with either online or real life friends."
   ]
  },
  {
   "cell_type": "code",
   "execution_count": null,
   "id": "7ce4ae98",
   "metadata": {},
   "outputs": [],
   "source": []
  },
  {
   "cell_type": "code",
   "execution_count": null,
   "id": "91cfe3fd",
   "metadata": {},
   "outputs": [],
   "source": []
  },
  {
   "cell_type": "code",
   "execution_count": null,
   "id": "f27b408f",
   "metadata": {},
   "outputs": [],
   "source": []
  },
  {
   "cell_type": "code",
   "execution_count": null,
   "id": "83267817",
   "metadata": {},
   "outputs": [],
   "source": []
  },
  {
   "cell_type": "code",
   "execution_count": null,
   "id": "e066113b",
   "metadata": {},
   "outputs": [],
   "source": []
  },
  {
   "cell_type": "code",
   "execution_count": null,
   "id": "930a930d",
   "metadata": {},
   "outputs": [],
   "source": []
  },
  {
   "cell_type": "code",
   "execution_count": null,
   "id": "736123c1",
   "metadata": {},
   "outputs": [],
   "source": []
  },
  {
   "cell_type": "code",
   "execution_count": null,
   "id": "0a4a20b4",
   "metadata": {},
   "outputs": [],
   "source": []
  },
  {
   "cell_type": "code",
   "execution_count": null,
   "id": "a200b6e0",
   "metadata": {},
   "outputs": [],
   "source": []
  },
  {
   "cell_type": "code",
   "execution_count": null,
   "id": "5a348ccb",
   "metadata": {},
   "outputs": [],
   "source": []
  }
 ],
 "metadata": {
  "kernelspec": {
   "display_name": "Python 3 (ipykernel)",
   "language": "python",
   "name": "python3"
  },
  "language_info": {
   "codemirror_mode": {
    "name": "ipython",
    "version": 3
   },
   "file_extension": ".py",
   "mimetype": "text/x-python",
   "name": "python",
   "nbconvert_exporter": "python",
   "pygments_lexer": "ipython3",
   "version": "3.10.13"
  }
 },
 "nbformat": 4,
 "nbformat_minor": 5
}
