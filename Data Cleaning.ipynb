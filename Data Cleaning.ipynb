{
 "cells": [
  {
   "cell_type": "code",
   "execution_count": null,
   "id": "b47f5d17",
   "metadata": {},
   "outputs": [],
   "source": [
    "# import\n",
    "import numpy as np\n",
    "import pandas as pd\n",
    "from pathlib import Path\n",
    "import chardet\n"
   ]
  },
  {
   "cell_type": "code",
   "execution_count": null,
   "id": "2c77345f",
   "metadata": {},
   "outputs": [],
   "source": [
    "# Create path to CSV\n",
    "gaming = Path(\"Scrub_gaming_data.csv\")"
   ]
  },
  {
   "cell_type": "code",
   "execution_count": null,
   "id": "a4e8c6c7",
   "metadata": {},
   "outputs": [],
   "source": [
    "# read in binary mode and detect encoding\n",
    "# with open(\"../Scrub gaming data.csv\", 'rb') as f:\n",
    "#     result = chardet.detect(f.read())\n",
    "    \n",
    "# encoding = result['encoding']\n",
    "\n"
   ]
  },
  {
   "cell_type": "code",
   "execution_count": null,
   "id": "2da76cbf",
   "metadata": {},
   "outputs": [],
   "source": [
    "# Read data file with Pandas\n",
    "# gaming_df = pd.read_csv(gaming, encoding = \"ISO-8859-1\")\n",
    "gaming_df = pd.read_csv(gaming)\n",
    "gaming_df[\"whyplay\"].value_counts()\n",
    "gaming_df"
   ]
  },
  {
   "cell_type": "code",
   "execution_count": null,
   "id": "e3d36ba1",
   "metadata": {
    "scrolled": true
   },
   "outputs": [],
   "source": [
    "gaming_df.columns"
   ]
  },
  {
   "cell_type": "code",
   "execution_count": null,
   "id": "35b39c4f",
   "metadata": {
    "scrolled": true
   },
   "outputs": [],
   "source": [
    "clean_game = gaming_df[[\"S. No.\",\"Game\",\"Platform\",\"Hours\",\"earnings\",\"whyplay\",\"Gender\",\"Age\",\"Work\",\"Degree\",\"Residence\",\"Playstyle\",\"GAD_T\",\"SWL_T\",\"SPIN_T\"]]\n",
    "clean_game"
   ]
  },
  {
   "cell_type": "code",
   "execution_count": null,
   "id": "73a2de07",
   "metadata": {},
   "outputs": [],
   "source": [
    "clean_game.to_csv(\"clean_game_data.csv\")\n"
   ]
  }
 ],
 "metadata": {
  "kernelspec": {
   "display_name": "Python 3 (ipykernel)",
   "language": "python",
   "name": "python3"
  },
  "language_info": {
   "codemirror_mode": {
    "name": "ipython",
    "version": 3
   },
   "file_extension": ".py",
   "mimetype": "text/x-python",
   "name": "python",
   "nbconvert_exporter": "python",
   "pygments_lexer": "ipython3",
   "version": "3.10.13"
  }
 },
 "nbformat": 4,
 "nbformat_minor": 5
}
