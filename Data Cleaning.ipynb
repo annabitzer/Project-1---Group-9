{
 "cells": [
  {
   "cell_type": "code",
   "execution_count": 10,
   "id": "b47f5d17",
   "metadata": {},
   "outputs": [],
   "source": [
    "# import\n",
    "import numpy as np\n",
    "import pandas as pd\n",
    "from pathlib import Path\n",
    "import chardet\n"
   ]
  },
  {
   "cell_type": "code",
   "execution_count": 18,
   "id": "2c77345f",
   "metadata": {},
   "outputs": [],
   "source": [
    "# Create path to CSV\n",
    "gaming = Path(\"../Scrub gaming data.csv\")"
   ]
  },
  {
   "cell_type": "code",
   "execution_count": 14,
   "id": "a4e8c6c7",
   "metadata": {},
   "outputs": [],
   "source": [
    "# read in binary mode and detect encoding\n",
    "# with open(\"../Scrub gaming data.csv\", 'rb') as f:\n",
    "#     result = chardet.detect(f.read())\n",
    "    \n",
    "# encoding = result['encoding']\n",
    "\n"
   ]
  },
  {
   "cell_type": "code",
   "execution_count": 19,
   "id": "2da76cbf",
   "metadata": {},
   "outputs": [
    {
     "data": {
      "text/plain": [
       "whyplay\n",
       "having fun                                                                          5289\n",
       "improving                                                                           4927\n",
       "winning                                                                             2091\n",
       "relaxing                                                                             654\n",
       "All of the above                                                                      26\n",
       "                                                                                    ... \n",
       "Making my brain go numb                                                                1\n",
       "Combination: Winning / Having fun                                                      1\n",
       "Improving + Fun                                                                        1\n",
       "to be occupied                                                                         1\n",
       "Mental priority is Fun>Improve>Win  actual priority once in game Win>Improve>Fun       1\n",
       "Name: count, Length: 407, dtype: int64"
      ]
     },
     "execution_count": 19,
     "metadata": {},
     "output_type": "execute_result"
    }
   ],
   "source": [
    "# Read data file with Pandas\n",
    "gaming_df = pd.read_csv(gaming, encoding = \"ISO-8859-1\")\n",
    "gaming_df[\"whyplay\"].value_counts()"
   ]
  },
  {
   "cell_type": "code",
   "execution_count": 20,
   "id": "e3d36ba1",
   "metadata": {
    "scrolled": true
   },
   "outputs": [
    {
     "data": {
      "text/plain": [
       "Index(['S. No.', 'Timestamp', 'GAD1', 'GAD2', 'GAD3', 'GAD4', 'GAD5', 'GAD6',\n",
       "       'GAD7', 'GADE', 'SWL1', 'SWL2', 'SWL3', 'SWL4', 'SWL5', 'Game',\n",
       "       'Platform', 'Hours', 'earnings', 'whyplay', 'League', 'highestleague',\n",
       "       'streams', 'SPIN1', 'SPIN2', 'SPIN3', 'SPIN4', 'SPIN5', 'SPIN6',\n",
       "       'SPIN7', 'SPIN8', 'SPIN9', 'SPIN10', 'SPIN11', 'SPIN12', 'SPIN13',\n",
       "       'SPIN14', 'SPIN15', 'SPIN16', 'SPIN17', 'Narcissism', 'Gender', 'Age',\n",
       "       'Work', 'Degree', 'Birthplace', 'Residence', 'Reference', 'Playstyle',\n",
       "       'accept', 'GAD_T', 'SWL_T', 'SPIN_T', 'Residence_ISO3',\n",
       "       'Birthplace_ISO3'],\n",
       "      dtype='object')"
      ]
     },
     "execution_count": 20,
     "metadata": {},
     "output_type": "execute_result"
    }
   ],
   "source": [
    "gaming_df.columns"
   ]
  },
  {
   "cell_type": "code",
   "execution_count": 22,
   "id": "35b39c4f",
   "metadata": {},
   "outputs": [
    {
     "data": {
      "text/plain": [
       "Degree\n",
       "High school diploma (or equivalent)    8560\n",
       "Bachelorÿ(or equivalent)               2687\n",
       "Masterÿ(or equivalent)                  546\n",
       "Ph.D.  Psy. D.  MD (or equivalent)       94\n",
       "Name: count, dtype: int64"
      ]
     },
     "execution_count": 22,
     "metadata": {},
     "output_type": "execute_result"
    }
   ],
   "source": [
    "clean_game = gaming_df[[\"S. No.\",\"Game\",\"Platform\",\"Hours\",\"earnings\",\"whyplay\",\"League\",\"Gender\",\"Age\",\"Work\",\"Degree\",\"Residence\",\"Playstyle\",\"GAD_T\",\"SWL_T\",\"SPIN_T\"]]\n",
    "clean_game[\"Degree\"].value_counts()"
   ]
  },
  {
   "cell_type": "code",
   "execution_count": null,
   "id": "73a2de07",
   "metadata": {},
   "outputs": [],
   "source": [
    "\n"
   ]
  }
 ],
 "metadata": {
  "kernelspec": {
   "display_name": "Python 3 (ipykernel)",
   "language": "python",
   "name": "python3"
  },
  "language_info": {
   "codemirror_mode": {
    "name": "ipython",
    "version": 3
   },
   "file_extension": ".py",
   "mimetype": "text/x-python",
   "name": "python",
   "nbconvert_exporter": "python",
   "pygments_lexer": "ipython3",
   "version": "3.10.13"
  }
 },
 "nbformat": 4,
 "nbformat_minor": 5
}
