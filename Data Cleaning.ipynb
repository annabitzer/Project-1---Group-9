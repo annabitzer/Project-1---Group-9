{
 "cells": [
  {
   "cell_type": "code",
   "execution_count": null,
   "id": "b47f5d17",
   "metadata": {},
   "outputs": [],
   "source": [
    "# import\n",
    "import numpy as np\n",
    "import pandas as pd\n",
    "from pathlib import Path\n",
    "import chardet\n"
   ]
  },
  {
   "cell_type": "code",
   "execution_count": null,
   "id": "2c77345f",
   "metadata": {},
   "outputs": [],
   "source": [
    "# Create path to CSV\n",
    "gaming = Path(\"GamingStudy/Scrub_gaming_data.csv\")"
   ]
  },
  {
   "cell_type": "code",
   "execution_count": null,
   "id": "a4e8c6c7",
   "metadata": {},
   "outputs": [],
   "source": [
    "# read in binary mode and detect encoding\n",
    "# with open(\"../Scrub gaming data.csv\", 'rb') as f:\n",
    "#     result = chardet.detect(f.read())\n",
    "    \n",
    "# encoding = result['encoding']\n",
    "\n"
   ]
  },
  {
   "cell_type": "code",
   "execution_count": null,
   "id": "2da76cbf",
   "metadata": {},
   "outputs": [],
   "source": [
    "# Read data file with Pandas\n",
    "# gaming_df = pd.read_csv(gaming, encoding = \"ISO-8859-1\")\n",
    "gaming_df = pd.read_csv(gaming)\n",
    "gaming_df"
   ]
  },
  {
   "cell_type": "code",
   "execution_count": null,
   "id": "e3d36ba1",
   "metadata": {
    "scrolled": true
   },
   "outputs": [],
   "source": [
    "gaming_df.columns"
   ]
  },
  {
   "cell_type": "code",
   "execution_count": null,
   "id": "35b39c4f",
   "metadata": {
    "scrolled": true
   },
   "outputs": [],
   "source": [
    "clean_game = gaming_df[[\"S. No.\",\"Game\",\"Platform\",\"Hours\",\"earnings\",\"whyplay\",\"Gender\",\"Age\",\"Work\",\"Degree\",\"Residence\",\"Playstyle\",\"GAD_T\",\"SWL_T\",\"SPIN_T\"]]\n",
    "clean_game"
   ]
  },
  {
   "cell_type": "code",
   "execution_count": null,
   "id": "73a2de07",
   "metadata": {},
   "outputs": [],
   "source": [
    "clean_game.to_csv(\"clean_game_data.csv\")\n"
   ]
  },
  {
   "cell_type": "code",
   "execution_count": null,
   "id": "94049c80",
   "metadata": {},
   "outputs": [],
   "source": [
    "# Aliyu's Code Starts Here"
   ]
  },
  {
   "cell_type": "code",
   "execution_count": null,
   "id": "9c84bd0a",
   "metadata": {},
   "outputs": [],
   "source": []
  },
  {
   "cell_type": "code",
   "execution_count": null,
   "id": "72179869",
   "metadata": {},
   "outputs": [],
   "source": []
  },
  {
   "cell_type": "code",
   "execution_count": null,
   "id": "f31d98e3",
   "metadata": {},
   "outputs": [],
   "source": []
  },
  {
   "cell_type": "code",
   "execution_count": null,
   "id": "0749b2e1",
   "metadata": {},
   "outputs": [],
   "source": []
  },
  {
   "cell_type": "code",
   "execution_count": null,
   "id": "f0a8b73a",
   "metadata": {},
   "outputs": [],
   "source": []
  },
  {
   "cell_type": "code",
   "execution_count": null,
   "id": "36005113",
   "metadata": {},
   "outputs": [],
   "source": []
  },
  {
   "cell_type": "code",
   "execution_count": null,
   "id": "3c4a74df",
   "metadata": {},
   "outputs": [],
   "source": []
  },
  {
   "cell_type": "code",
   "execution_count": null,
   "id": "6c12404e",
   "metadata": {},
   "outputs": [],
   "source": []
  },
  {
   "cell_type": "code",
   "execution_count": null,
   "id": "7bc8526e",
   "metadata": {},
   "outputs": [],
   "source": []
  },
  {
   "cell_type": "code",
   "execution_count": null,
   "id": "9f7fe6ea",
   "metadata": {},
   "outputs": [],
   "source": []
  },
  {
   "cell_type": "code",
   "execution_count": null,
   "id": "96bfa74c",
   "metadata": {},
   "outputs": [],
   "source": []
  },
  {
   "cell_type": "code",
   "execution_count": null,
   "id": "b0bcf59b",
   "metadata": {},
   "outputs": [],
   "source": []
  },
  {
   "cell_type": "code",
   "execution_count": null,
   "id": "09c3d87e",
   "metadata": {},
   "outputs": [],
   "source": []
  },
  {
   "cell_type": "code",
   "execution_count": null,
   "id": "dfb982c8",
   "metadata": {},
   "outputs": [],
   "source": []
  },
  {
   "cell_type": "code",
   "execution_count": null,
   "id": "dc6d7503",
   "metadata": {},
   "outputs": [],
   "source": [
    "#Aliyu's code stops here\n",
    "\n",
    "#Amy's code starts here\n",
    "# Americans vs Europeans: Who plays more (in hours) and how does it compare to their satisfaction with life scores?"
   ]
  },
  {
   "cell_type": "code",
   "execution_count": null,
   "id": "e3475409",
   "metadata": {},
   "outputs": [],
   "source": [
    "# create a df to see only S. No. (survey number), Residence, and SWL_T (satisfaction with life total score)\n",
    "residence_df = clean_game[[\"S. No.\",\"Hours\", \"Residence\",\"SWL_T\"]]\n",
    "\n",
    "# pull list of countries out of Residence column\n",
    "residence_df[\"Residence\"].unique()\n",
    "\n",
    "# residence_df = residence_df.drop(residence_df[\"Residence\"] == 'South Korea', 'Japan', \n",
    "#        'Australia', 'Malaysia',\n",
    "#        'Turkey', 'South Africa', 'India',\n",
    "#        'Argentina',\n",
    "#        'Singapore', 'China', 'Unknown', \n",
    "#        'Saudi Arabia',\n",
    "#        'Jordan', 'Brazil', 'Venezuela', 'Tunisia', 'Israel',\n",
    "#        'Qatar', 'Mexico', 'Philippines',\n",
    "#        'Egypt', 'New Zealand ', \n",
    "#        'Algeria', 'UAE', 'Chile', 'Lebanon',\n",
    "#        'Thailand', 'Peru', 'Namibia', 'Uruguay', 'Kuwait', 'Bangladesh',\n",
    "#        'Syria', 'Colombia', 'Dominican Republic', 'Nicaragua',\n",
    "#        'Hong Kong', 'Vietnam', 'Kazakhstan', 'Guadeloupe',\n",
    "#        'Grenada', 'Trinidad & Tobago', 'Panama', 'Indonesia',\n",
    "#        'Puerto Rico', 'Taiwan', 'Costa Rica', 'Belize',\n",
    "#        'Jamaica', 'Georgia', 'Faroe Islands', 'Guatemala', 'Moldova',\n",
    "#        'Mongolia', 'Honduras', 'Bahrain', 'Bolivia',\n",
    "#        'El Salvador', 'Ecuador', 'Pakistan', 'Republic of Kosovo',\n",
    "#        'St Vincent', 'Brunei', 'Fiji', 'Gibraltar ', 'Palestine')\n",
    "\n",
    "# drop non-US and non_European countries\n",
    "# coding help from Xpert Learning Assistant\n",
    "# European countries reference: https://www.worldometers.info/geography/how-many-countries-in-europe/#google_vignette\n",
    "patterns_to_drop = ['South Korea', 'Japan', 'Canada', \n",
    "       'Australia', 'Malaysia',\n",
    "       'Turkey', 'South Africa', 'India',\n",
    "       'Argentina',\n",
    "       'Singapore', 'China', 'Unknown', \n",
    "       'Saudi Arabia',\n",
    "       'Jordan', 'Brazil', 'Venezuela', 'Tunisia', 'Israel',\n",
    "       'Qatar', 'Mexico', 'Philippines',\n",
    "       'Egypt', 'New Zealand ', \n",
    "       'Algeria', 'UAE', 'Chile', 'Lebanon',\n",
    "       'Thailand', 'Peru', 'Namibia', 'Uruguay', 'Kuwait', 'Bangladesh',\n",
    "       'Syria', 'Colombia', 'Dominican Republic', 'Nicaragua',\n",
    "       'Hong Kong', 'Vietnam', 'Kazakhstan', 'Guadeloupe',\n",
    "       'Grenada', 'Trinidad & Tobago', 'Panama', 'Indonesia',\n",
    "       'Puerto Rico', 'Taiwan', 'Costa Rica', 'Belize',\n",
    "       'Jamaica', 'Georgia', 'Faroe Islands', 'Guatemala', 'Moldova',\n",
    "       'Mongolia', 'Honduras', 'Bahrain', 'Bolivia',\n",
    "       'El Salvador', 'Ecuador', 'Pakistan', 'Republic of Kosovo',\n",
    "       'St Vincent', 'Brunei', 'Fiji', 'Gibraltar ', 'Palestine']\n",
    "\n",
    "residence_df = residence_df[~residence_df[\"Residence\"].str.contains('|'.join(patterns_to_drop))]\n",
    "residence_df                                                            "
   ]
  },
  {
   "cell_type": "code",
   "execution_count": null,
   "id": "99c1b5e3",
   "metadata": {},
   "outputs": [],
   "source": [
    "# add Region col for US and Eur (only those two)\n",
    "# assign US or EUR to each country in the Region col\n",
    "# total up SWL scores for each\n",
    "# total up hours for each\n",
    "# pie chart for # players US vs Euro\n",
    "# bar chart for US/Euro players vs SWL score\n",
    "# ANOVA analysis?"
   ]
  },
  {
   "cell_type": "code",
   "execution_count": null,
   "id": "545594bf",
   "metadata": {},
   "outputs": [],
   "source": []
  },
  {
   "cell_type": "code",
   "execution_count": null,
   "id": "08947fee",
   "metadata": {},
   "outputs": [],
   "source": []
  },
  {
   "cell_type": "code",
   "execution_count": null,
   "id": "75f89d43",
   "metadata": {},
   "outputs": [],
   "source": []
  },
  {
   "cell_type": "code",
   "execution_count": null,
   "id": "a36724d3",
   "metadata": {},
   "outputs": [],
   "source": []
  },
  {
   "cell_type": "code",
   "execution_count": null,
   "id": "d9d326a1",
   "metadata": {},
   "outputs": [],
   "source": []
  },
  {
   "cell_type": "code",
   "execution_count": null,
   "id": "fabed60e",
   "metadata": {},
   "outputs": [],
   "source": []
  },
  {
   "cell_type": "code",
   "execution_count": null,
   "id": "d73a11d9",
   "metadata": {},
   "outputs": [],
   "source": []
  },
  {
   "cell_type": "code",
   "execution_count": null,
   "id": "4566de36",
   "metadata": {},
   "outputs": [],
   "source": []
  },
  {
   "cell_type": "code",
   "execution_count": null,
   "id": "1843906b",
   "metadata": {},
   "outputs": [],
   "source": []
  },
  {
   "cell_type": "code",
   "execution_count": null,
   "id": "3e9874ec",
   "metadata": {},
   "outputs": [],
   "source": []
  },
  {
   "cell_type": "code",
   "execution_count": null,
   "id": "a8ee9ece",
   "metadata": {},
   "outputs": [],
   "source": []
  },
  {
   "cell_type": "code",
   "execution_count": null,
   "id": "3add2c03",
   "metadata": {},
   "outputs": [],
   "source": []
  },
  {
   "cell_type": "code",
   "execution_count": null,
   "id": "89bcffb1",
   "metadata": {},
   "outputs": [],
   "source": [
    "#Amy's code stops here\n",
    "#Andrew's code starts here"
   ]
  },
  {
   "cell_type": "code",
   "execution_count": null,
   "id": "8058704b",
   "metadata": {},
   "outputs": [],
   "source": []
  },
  {
   "cell_type": "code",
   "execution_count": null,
   "id": "cc161088",
   "metadata": {},
   "outputs": [],
   "source": []
  },
  {
   "cell_type": "code",
   "execution_count": null,
   "id": "34f27a46",
   "metadata": {},
   "outputs": [],
   "source": []
  },
  {
   "cell_type": "code",
   "execution_count": null,
   "id": "8858064b",
   "metadata": {},
   "outputs": [],
   "source": []
  },
  {
   "cell_type": "code",
   "execution_count": null,
   "id": "d08dc23f",
   "metadata": {},
   "outputs": [],
   "source": []
  },
  {
   "cell_type": "code",
   "execution_count": null,
   "id": "b2a1501d",
   "metadata": {},
   "outputs": [],
   "source": []
  },
  {
   "cell_type": "code",
   "execution_count": null,
   "id": "1a4e65d0",
   "metadata": {},
   "outputs": [],
   "source": []
  },
  {
   "cell_type": "code",
   "execution_count": null,
   "id": "e9428c6e",
   "metadata": {},
   "outputs": [],
   "source": []
  },
  {
   "cell_type": "code",
   "execution_count": null,
   "id": "4ac93d64",
   "metadata": {},
   "outputs": [],
   "source": []
  },
  {
   "cell_type": "code",
   "execution_count": null,
   "id": "0a007fe5",
   "metadata": {},
   "outputs": [],
   "source": []
  },
  {
   "cell_type": "code",
   "execution_count": null,
   "id": "deb0cbe8",
   "metadata": {},
   "outputs": [],
   "source": []
  },
  {
   "cell_type": "code",
   "execution_count": null,
   "id": "7f1ddfce",
   "metadata": {},
   "outputs": [],
   "source": []
  },
  {
   "cell_type": "code",
   "execution_count": null,
   "id": "76827991",
   "metadata": {},
   "outputs": [],
   "source": []
  },
  {
   "cell_type": "code",
   "execution_count": null,
   "id": "4b560b32",
   "metadata": {},
   "outputs": [],
   "source": []
  },
  {
   "cell_type": "code",
   "execution_count": null,
   "id": "b4855ac4",
   "metadata": {},
   "outputs": [],
   "source": [
    "#Anna's code stops here\n",
    "#Andrew's code starts here"
   ]
  },
  {
   "cell_type": "code",
   "execution_count": null,
   "id": "6a0552ce",
   "metadata": {},
   "outputs": [],
   "source": []
  },
  {
   "cell_type": "code",
   "execution_count": null,
   "id": "0097ba26",
   "metadata": {},
   "outputs": [],
   "source": []
  },
  {
   "cell_type": "code",
   "execution_count": null,
   "id": "042fd665",
   "metadata": {},
   "outputs": [],
   "source": []
  },
  {
   "cell_type": "code",
   "execution_count": null,
   "id": "bc121adb",
   "metadata": {},
   "outputs": [],
   "source": []
  },
  {
   "cell_type": "code",
   "execution_count": null,
   "id": "adc573c2",
   "metadata": {},
   "outputs": [],
   "source": []
  },
  {
   "cell_type": "code",
   "execution_count": null,
   "id": "fe719bfc",
   "metadata": {},
   "outputs": [],
   "source": []
  },
  {
   "cell_type": "code",
   "execution_count": null,
   "id": "5b93a493",
   "metadata": {},
   "outputs": [],
   "source": []
  },
  {
   "cell_type": "code",
   "execution_count": null,
   "id": "c1fba033",
   "metadata": {},
   "outputs": [],
   "source": []
  },
  {
   "cell_type": "code",
   "execution_count": null,
   "id": "8d351dcf",
   "metadata": {},
   "outputs": [],
   "source": []
  },
  {
   "cell_type": "code",
   "execution_count": null,
   "id": "d3a97098",
   "metadata": {},
   "outputs": [],
   "source": []
  },
  {
   "cell_type": "code",
   "execution_count": null,
   "id": "d4b262f3",
   "metadata": {},
   "outputs": [],
   "source": []
  },
  {
   "cell_type": "code",
   "execution_count": null,
   "id": "7ce4ae98",
   "metadata": {},
   "outputs": [],
   "source": []
  },
  {
   "cell_type": "code",
   "execution_count": null,
   "id": "91cfe3fd",
   "metadata": {},
   "outputs": [],
   "source": []
  },
  {
   "cell_type": "code",
   "execution_count": null,
   "id": "f27b408f",
   "metadata": {},
   "outputs": [],
   "source": []
  },
  {
   "cell_type": "code",
   "execution_count": null,
   "id": "83267817",
   "metadata": {},
   "outputs": [],
   "source": []
  },
  {
   "cell_type": "code",
   "execution_count": null,
   "id": "e066113b",
   "metadata": {},
   "outputs": [],
   "source": []
  },
  {
   "cell_type": "code",
   "execution_count": null,
   "id": "930a930d",
   "metadata": {},
   "outputs": [],
   "source": []
  },
  {
   "cell_type": "code",
   "execution_count": null,
   "id": "736123c1",
   "metadata": {},
   "outputs": [],
   "source": []
  },
  {
   "cell_type": "code",
   "execution_count": null,
   "id": "0a4a20b4",
   "metadata": {},
   "outputs": [],
   "source": []
  },
  {
   "cell_type": "code",
   "execution_count": null,
   "id": "a200b6e0",
   "metadata": {},
   "outputs": [],
   "source": []
  },
  {
   "cell_type": "code",
   "execution_count": null,
   "id": "5a348ccb",
   "metadata": {},
   "outputs": [],
   "source": []
  }
 ],
 "metadata": {
  "kernelspec": {
   "display_name": "Python 3 (ipykernel)",
   "language": "python",
   "name": "python3"
  },
  "language_info": {
   "codemirror_mode": {
    "name": "ipython",
    "version": 3
   },
   "file_extension": ".py",
   "mimetype": "text/x-python",
   "name": "python",
   "nbconvert_exporter": "python",
   "pygments_lexer": "ipython3",
   "version": "3.10.13"
  }
 },
 "nbformat": 4,
 "nbformat_minor": 5
}
